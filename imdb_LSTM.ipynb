{
  "nbformat": 4,
  "nbformat_minor": 0,
  "metadata": {
    "colab": {
      "name": "imdb_LSTM.ipynb",
      "provenance": [],
      "collapsed_sections": []
    },
    "kernelspec": {
      "name": "python3",
      "display_name": "Python 3"
    }
  },
  "cells": [
    {
      "cell_type": "code",
      "metadata": {
        "id": "Ko6QpqT08qOR",
        "colab_type": "code",
        "colab": {}
      },
      "source": [
        "from keras.datasets import imdb\n",
        "from keras.models import Sequential,save_model\n",
        "from keras.layers import Dense,LSTM,Embedding,Dropout\n",
        "from keras.preprocessing import sequence\n",
        "import random\n",
        "import numpy as np\n",
        "from  matplotlib import pyplot as plt\n",
        "from keras.callbacks import EarlyStopping"
      ],
      "execution_count": 0,
      "outputs": []
    },
    {
      "cell_type": "code",
      "metadata": {
        "id": "ODQYxfEY9qM8",
        "colab_type": "code",
        "colab": {}
      },
      "source": [
        "num_words = 10000\n",
        "(X_train,y_train),(X_test,y_test) = imdb.load_data(num_words=num_words)\n",
        "m = X_train.shape[0]"
      ],
      "execution_count": 0,
      "outputs": []
    },
    {
      "cell_type": "code",
      "metadata": {
        "id": "XiPFkxNU_O_H",
        "colab_type": "code",
        "colab": {
          "base_uri": "https://localhost:8080/",
          "height": 71
        },
        "outputId": "aad153a8-6805-4cde-c6d1-e83f4f105d9b"
      },
      "source": [
        "def convert_seq_to_text(ind,seq):\n",
        "  word_to_id = imdb.get_word_index()\n",
        "  word_to_id = {k:(v+3) for k,v in word_to_id.items()}\n",
        "  word_to_id[\"<PAD>\"] = 0\n",
        "  word_to_id[\"<START>\"] = 1\n",
        "  word_to_id[\"<UNK>\"] = 2\n",
        "  word_to_id[\"<UNUSED>\"] = 3\n",
        "  id_to_word = {value:key for key,value in word_to_id.items()}\n",
        "  return ' '.join(id_to_word[id] for id in X_train[ind] )\n",
        "\n",
        "ind = random.randint(0,m)\n",
        "print('comment: {}'.format(convert_seq_to_text(ind,X_train[ind])))\n",
        "print('sentimetn : {}'.format('pos' if y_train[ind] else 'Neg'))"
      ],
      "execution_count": 13,
      "outputs": [
        {
          "output_type": "stream",
          "text": [
            "comment: <START> kings and queen is a <UNK> french drama that <UNK> on for an interminable two hours and thirty two minutes to no discernible point or purpose br br the film features two stories that seem unrelated at first but which eventually connect with one another about halfway through the movie the first centers around nora and her struggles with various men in her life including an elderly father who discovers he has only a few days left to live the other story involves a young man named <UNK> a <UNK> who finds himself placed unfairly he believes in a mental institution through the <UNK> of an unknown third party after traveling along on separate tracks for awhile these two narrative <UNK> eventually come together when we learn that <UNK> is a former lover of <UNK> and the man she has chosen to adopt her son from an earlier tragic relationship br br with a bit more focus and a considerable amount of <UNK> kings and queen might have been a potent engrossing drama about modern day relationships it certainly has moments of tremendous insight and emotional power and the performances are for the most part complex and touching but taken as a whole the film <UNK> and <UNK> to such an extent that quite frankly it begins to <UNK> havoc on our patience and to wear out its welcome early on even more <UNK> is the fact that even though we spend what seems like a mild eternity in the company of these people we really don't know quite what to make of any of them when the show is finally over for instance <UNK> father on his <UNK> writes a <UNK> <UNK> against his daughter's character that simply doesn't <UNK> with the woman we've been looking at for well over two hours nora is admittedly no mother <UNK> then again who is but she certainly doesn't deserve the <UNK> thrown at her by her very own father nora could be accused of being confused <UNK> a bit self absorbed at times but evil enough to have her father wishing he could give her his cancer and make her die in his place i don't think so br br perhaps this film is simply operating at a level of depth that i was unable to <UNK> but my suspicion is that even writer roger <UNK> and co writer director <UNK> <UNK> would have trouble fully explaining their purpose here this is a well acted pretentious bore of a film that takes the viewer on a long rambling voyage through a sea of personal <UNK> a journey that leaves him no <UNK> or more <UNK> at the end than he was at the beginning\n",
            "sentimetn : Neg\n"
          ],
          "name": "stdout"
        }
      ]
    },
    {
      "cell_type": "markdown",
      "metadata": {
        "id": "aqy0b6whOOJ3",
        "colab_type": "text"
      },
      "source": [
        "prepare data(paddding the inputs)"
      ]
    },
    {
      "cell_type": "code",
      "metadata": {
        "id": "j19eO9WsEqkU",
        "colab_type": "code",
        "colab": {}
      },
      "source": [
        "seq_len = 64\n",
        "X_train = sequence.pad_sequences(X_train,maxlen=seq_len)\n",
        "X_test = sequence.pad_sequences(X_test,maxlen=seq_len)"
      ],
      "execution_count": 0,
      "outputs": []
    },
    {
      "cell_type": "markdown",
      "metadata": {
        "id": "Z_lOCjx2FZ1N",
        "colab_type": "text"
      },
      "source": [
        "build a model"
      ]
    },
    {
      "cell_type": "code",
      "metadata": {
        "id": "WXCcOS49Fdyt",
        "colab_type": "code",
        "colab": {
          "base_uri": "https://localhost:8080/",
          "height": 255
        },
        "outputId": "25ca9c2e-4e77-46ef-be25-846b6b19d038"
      },
      "source": [
        "model = Sequential()\n",
        "model.add(Embedding(input_dim = num_words,output_dim = 16))\n",
        "model.add(LSTM(128,activation='softmax'))\n",
        "model.add(Dense(1,activation='sigmoid'))\n",
        "model.compile(optimizer = 'adam',loss='binary_crossentropy',metrics=['acc'])\n",
        "model.summary()"
      ],
      "execution_count": 15,
      "outputs": [
        {
          "output_type": "stream",
          "text": [
            "Model: \"sequential_2\"\n",
            "_________________________________________________________________\n",
            "Layer (type)                 Output Shape              Param #   \n",
            "=================================================================\n",
            "embedding_2 (Embedding)      (None, None, 16)          160000    \n",
            "_________________________________________________________________\n",
            "lstm_2 (LSTM)                (None, 128)               74240     \n",
            "_________________________________________________________________\n",
            "dense_2 (Dense)              (None, 1)                 129       \n",
            "=================================================================\n",
            "Total params: 234,369\n",
            "Trainable params: 234,369\n",
            "Non-trainable params: 0\n",
            "_________________________________________________________________\n"
          ],
          "name": "stdout"
        }
      ]
    },
    {
      "cell_type": "markdown",
      "metadata": {
        "id": "LNWJsnAgOLOh",
        "colab_type": "text"
      },
      "source": [
        "train the model"
      ]
    },
    {
      "cell_type": "code",
      "metadata": {
        "id": "UgWkCaRxGj8j",
        "colab_type": "code",
        "colab": {
          "base_uri": "https://localhost:8080/",
          "height": 326
        },
        "outputId": "29623b9a-2ee3-4a27-c8e1-fbcc8ca87624"
      },
      "source": [
        "history = model.fit(X_train,y_train,epochs = 10,validation_split=0.1,callbacks=[EarlyStopping('val_loss',patience = 3)])"
      ],
      "execution_count": 16,
      "outputs": [
        {
          "output_type": "stream",
          "text": [
            "/usr/local/lib/python3.6/dist-packages/tensorflow/python/framework/indexed_slices.py:434: UserWarning: Converting sparse IndexedSlices to a dense Tensor of unknown shape. This may consume a large amount of memory.\n",
            "  \"Converting sparse IndexedSlices to a dense Tensor of unknown shape. \"\n"
          ],
          "name": "stderr"
        },
        {
          "output_type": "stream",
          "text": [
            "Train on 22500 samples, validate on 2500 samples\n",
            "Epoch 1/10\n",
            "22500/22500 [==============================] - 57s 3ms/step - loss: 0.6923 - acc: 0.5390 - val_loss: 0.6892 - val_acc: 0.5764\n",
            "Epoch 2/10\n",
            "22500/22500 [==============================] - 57s 3ms/step - loss: 0.6509 - acc: 0.6674 - val_loss: 0.5325 - val_acc: 0.7624\n",
            "Epoch 3/10\n",
            "22500/22500 [==============================] - 57s 3ms/step - loss: 0.4318 - acc: 0.8200 - val_loss: 0.4590 - val_acc: 0.7964\n",
            "Epoch 4/10\n",
            "22500/22500 [==============================] - 57s 3ms/step - loss: 0.3397 - acc: 0.8708 - val_loss: 0.4409 - val_acc: 0.8036\n",
            "Epoch 5/10\n",
            "22500/22500 [==============================] - 58s 3ms/step - loss: 0.2921 - acc: 0.8935 - val_loss: 0.4505 - val_acc: 0.8092\n",
            "Epoch 6/10\n",
            "22500/22500 [==============================] - 58s 3ms/step - loss: 0.2589 - acc: 0.9106 - val_loss: 0.4668 - val_acc: 0.8072\n",
            "Epoch 7/10\n",
            "22500/22500 [==============================] - 58s 3ms/step - loss: 0.2330 - acc: 0.9226 - val_loss: 0.4878 - val_acc: 0.8100\n"
          ],
          "name": "stdout"
        }
      ]
    },
    {
      "cell_type": "markdown",
      "metadata": {
        "id": "G9xJH_62OILI",
        "colab_type": "text"
      },
      "source": [
        "plot loss and accuracy"
      ]
    },
    {
      "cell_type": "code",
      "metadata": {
        "id": "KEMS5_5jIqNq",
        "colab_type": "code",
        "colab": {
          "base_uri": "https://localhost:8080/",
          "height": 545
        },
        "outputId": "a0a999fb-9443-4fb6-9749-1f3ff65bc3ab"
      },
      "source": [
        "plt.plot(history.history['loss'])\n",
        "plt.plot(history.history['val_loss'])\n",
        "plt.title('loss')\n",
        "plt.legend(['loss','val_loss'])\n",
        "plt.show()\n",
        "\n",
        "plt.plot(history.history['acc'])\n",
        "plt.plot(history.history['val_acc'])\n",
        "plt.title('acc')\n",
        "plt.show()"
      ],
      "execution_count": 17,
      "outputs": [
        {
          "output_type": "display_data",
          "data": {
            "image/png": "[encoded data removed]",
            "text/plain": [
              "<Figure size 432x288 with 1 Axes>"
            ]
          },
          "metadata": {
            "tags": [],
            "needs_background": "light"
          }
        },
        {
          "output_type": "display_data",
          "data": {
            "image/png": "[encoded data removed]",
            "text/plain": [
              "<Figure size 432x288 with 1 Axes>"
            ]
          },
          "metadata": {
            "tags": [],
            "needs_background": "light"
          }
        }
      ]
    },
    {
      "cell_type": "markdown",
      "metadata": {
        "id": "VzoNM_ISOF6b",
        "colab_type": "text"
      },
      "source": [
        "evaluate the model"
      ]
    },
    {
      "cell_type": "code",
      "metadata": {
        "id": "4elkbNj-KA9j",
        "colab_type": "code",
        "colab": {
          "base_uri": "https://localhost:8080/",
          "height": 51
        },
        "outputId": "f6ae2eda-5b05-42f5-84d6-280eeb7328c7"
      },
      "source": [
        "res = model.evaluate(X_test,y_test)\n",
        "print('acc = {} loss = {}'.format(res[1],res[0]))"
      ],
      "execution_count": 18,
      "outputs": [
        {
          "output_type": "stream",
          "text": [
            "25000/25000 [==============================] - 14s 562us/step\n",
            "acc = 0.8073999881744385 loss = 0.4819046229362488\n"
          ],
          "name": "stdout"
        }
      ]
    },
    {
      "cell_type": "markdown",
      "metadata": {
        "id": "HyVlPJGKPDG8",
        "colab_type": "text"
      },
      "source": [
        "predict some results"
      ]
    },
    {
      "cell_type": "code",
      "metadata": {
        "id": "-A_63R4DOEC8",
        "colab_type": "code",
        "colab": {
          "base_uri": "https://localhost:8080/",
          "height": 88
        },
        "outputId": "79c798dd-f73a-4635-8cef-19d1f16679d7"
      },
      "source": [
        "ind = random.randint(0,len(X_test))\n",
        "print('comment: {}'.format(convert_seq_to_text(ind,X_test[ind])))\n",
        "print('actural result: {}'.format('Positive' if y_test[ind] else 'Negative'))\n",
        "pred = model.predict_classes(X_test[ind])[0][0]\n",
        "print('prediction result: {}'.format('Positive' if pred else 'Negative'))"
      ],
      "execution_count": 20,
      "outputs": [
        {
          "output_type": "stream",
          "text": [
            "comment: for the head bad guy who is flat as a <UNK> table and most are fairly well acted all the protagonists in this film are just fun to watch the dialogue is quite witty and doesn't seem to lose much in translation this film is worth seeing but i hope that <UNK> american audiences don't think this is the best hk has to offer\n",
            "actural result: Negative\n",
            "prediction result: Negative\n"
          ],
          "name": "stdout"
        }
      ]
    },
    {
      "cell_type": "code",
      "metadata": {
        "id": "kkxsIMbzZ4oA",
        "colab_type": "code",
        "colab": {}
      },
      "source": [
        "save_model(model,'saved_model.hdf5')"
      ],
      "execution_count": 0,
      "outputs": []
    }
  ]
}